{
 "cells": [
  {
   "cell_type": "code",
   "execution_count": 17,
   "id": "2349921f-d397-496f-839f-99cd98de3047",
   "metadata": {},
   "outputs": [
    {
     "name": "stdout",
     "output_type": "stream",
     "text": [
      "0    f\n",
      "1    a\n",
      "2    h\n",
      "3    i\n",
      "4    m\n",
      "dtype: object\n"
     ]
    }
   ],
   "source": [
    "import pandas as pd\n",
    "import numpy as np\n",
    "arr=np.array(['f','a','h','i','m'])\n",
    "a=pd.Series(arr)\n",
    "print(a)"
   ]
  },
  {
   "cell_type": "code",
   "execution_count": 9,
   "id": "9e689589-acf1-4333-ae25-18b48c0b4959",
   "metadata": {},
   "outputs": [
    {
     "name": "stdout",
     "output_type": "stream",
     "text": [
      "a    0\n",
      "b    1\n",
      "c    2\n",
      "dtype: int64\n"
     ]
    }
   ],
   "source": [
    "import pandas as pd\n",
    "import numpy as np\n",
    "arr={'a':0,'b':1,'c':2}\n",
    "a=pd.Series(arr)\n",
    "print(a)"
   ]
  },
  {
   "cell_type": "code",
   "execution_count": 11,
   "id": "815c7ff2-050b-428a-adac-fe5dff43f865",
   "metadata": {},
   "outputs": [
    {
     "name": "stdout",
     "output_type": "stream",
     "text": [
      "0    4\n",
      "1    4\n",
      "2    4\n",
      "3    4\n",
      "dtype: int64\n"
     ]
    }
   ],
   "source": [
    "scalar=pd.Series(4,index=[0,1,2,3])\n",
    "print(scalar)"
   ]
  },
  {
   "cell_type": "code",
   "execution_count": 18,
   "id": "fe1a5c97-f26c-428b-b990-28e412665936",
   "metadata": {},
   "outputs": [
    {
     "name": "stdout",
     "output_type": "stream",
     "text": [
      "\n",
      " series : \n",
      " 0    f\n",
      "1    a\n",
      "2    h\n",
      "3    i\n",
      "4    m\n",
      "dtype: object\n",
      "\n",
      " index : \n",
      " RangeIndex(start=0, stop=5, step=1)\n",
      "\n",
      " Shape : \n",
      " (5,)\n",
      "\n",
      " Dimension : \n",
      " 1\n",
      "\n",
      " size : \n",
      " 5\n"
     ]
    }
   ],
   "source": [
    "print(\"\\n series : \\n\",a)\n",
    "print(\"\\n index : \\n\",a.index)\n",
    "print(\"\\n Shape : \\n\",a.shape)\n",
    "print(\"\\n Dimension : \\n\",a.ndim)\n",
    "print(\"\\n size : \\n\",a.size)"
   ]
  },
  {
   "cell_type": "code",
   "execution_count": null,
   "id": "fc69157b-e38e-4ca1-9248-f9da2b0a9756",
   "metadata": {},
   "outputs": [],
   "source": []
  }
 ],
 "metadata": {
  "kernelspec": {
   "display_name": "Python 3 (ipykernel)",
   "language": "python",
   "name": "python3"
  },
  "language_info": {
   "codemirror_mode": {
    "name": "ipython",
    "version": 3
   },
   "file_extension": ".py",
   "mimetype": "text/x-python",
   "name": "python",
   "nbconvert_exporter": "python",
   "pygments_lexer": "ipython3",
   "version": "3.12.7"
  }
 },
 "nbformat": 4,
 "nbformat_minor": 5
}
