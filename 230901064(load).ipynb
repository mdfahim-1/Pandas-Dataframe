{
 "cells": [
  {
   "cell_type": "code",
   "execution_count": 28,
   "id": "e0392793-13a5-44c7-b406-1a85d41c6027",
   "metadata": {},
   "outputs": [
    {
     "name": "stdout",
     "output_type": "stream",
     "text": [
      "   S.no FIRST NAME  GENDER LOGIN TIME  SALARY BONUS TEAM\n",
      "0     1      FAHIM    MALE       2:30  100000   50%    F\n",
      "1     2      MEERA  FEMALE       3:30   90000   30%    F\n",
      "2     3     RASEEN  FEMALE       2:30    7000   20%    F\n",
      "3     4      FINOZ    MALE       3:00    8000   10%    A\n",
      "4     5       NESA    MALE       3:00   70000    0%    A\n",
      "5     6       HEMA  FEMALE       4:00   50000    5%    B\n",
      "6     7     INAASS   FEMAE       2:30   10000   50%    A\n",
      "7     8         KI  FEMALE       3:30   90000   30%    B\n",
      "8     9     NEYMAR    MALE       2:30   70000   20%    B\n",
      "9    10    RONALDO    MALE       3:00   80000   10%    A\n"
     ]
    }
   ],
   "source": [
    "import pandas as pd\n",
    "d=pd.read_csv(\"FAHIM.csv\")\n",
    "print(d)"
   ]
  },
  {
   "cell_type": "code",
   "execution_count": 29,
   "id": "0f57b9ed-d714-4e56-bfe3-45b56509d735",
   "metadata": {},
   "outputs": [
    {
     "name": "stdout",
     "output_type": "stream",
     "text": [
      "Columns : Index(['S.no', 'FIRST NAME', 'GENDER', 'LOGIN TIME', 'SALARY', 'BONUS',\n",
      "       'TEAM'],\n",
      "      dtype='object')\n",
      "(10, 7)\n"
     ]
    }
   ],
   "source": [
    "import pandas as pd\n",
    "df=pd.DataFrame(d)\n",
    "print(\"Columns :\",df.columns)\n",
    "print(df.shape)"
   ]
  },
  {
   "cell_type": "code",
   "execution_count": 30,
   "id": "a05a4fd2-00a3-4a0f-86d4-0daf7639ba92",
   "metadata": {},
   "outputs": [
    {
     "name": "stdout",
     "output_type": "stream",
     "text": [
      "Name :\n",
      " 0      FAHIM\n",
      "1      MEERA\n",
      "2     RASEEN\n",
      "3      FINOZ\n",
      "4       NESA\n",
      "5       HEMA\n",
      "6     INAASS\n",
      "7         KI\n",
      "8     NEYMAR\n",
      "9    RONALDO\n",
      "Name: FIRST NAME, dtype: object\n"
     ]
    }
   ],
   "source": [
    "import pandas as pd\n",
    "print(\"Name :\\n\",df['FIRST NAME'])"
   ]
  },
  {
   "cell_type": "code",
   "execution_count": 31,
   "id": "f883b6d7-c7d3-47d2-a9d5-24130fc70334",
   "metadata": {},
   "outputs": [
    {
     "name": "stdout",
     "output_type": "stream",
     "text": [
      "   S.no FIRST NAME  GENDER LOGIN TIME  SALARY BONUS TEAM\n",
      "5     6       HEMA  FEMALE       4:00   50000    5%    B\n",
      "6     7     INAASS   FEMAE       2:30   10000   50%    A\n",
      "7     8         KI  FEMALE       3:30   90000   30%    B\n",
      "8     9     NEYMAR    MALE       2:30   70000   20%    B\n",
      "9    10    RONALDO    MALE       3:00   80000   10%    A\n"
     ]
    }
   ],
   "source": [
    "print(df[5:10])"
   ]
  },
  {
   "cell_type": "code",
   "execution_count": 32,
   "id": "ae5c8e12-cbc2-423c-859e-51f08c2bf55f",
   "metadata": {},
   "outputs": [
    {
     "name": "stdout",
     "output_type": "stream",
     "text": [
      "ParticularPersondetails: \n",
      " S.no               3\n",
      "FIRST NAME    RASEEN\n",
      "GENDER        FEMALE\n",
      "LOGIN TIME      2:30\n",
      "SALARY          7000\n",
      "BONUS            20%\n",
      "TEAM               F\n",
      "Name: 2, dtype: object\n"
     ]
    }
   ],
   "source": [
    "print(\"ParticularPersondetails: \\n\",df.loc[2])"
   ]
  },
  {
   "cell_type": "code",
   "execution_count": 35,
   "id": "6cf40052-b0e5-48a1-8b2f-bc9edbedf647",
   "metadata": {},
   "outputs": [
    {
     "name": "stdout",
     "output_type": "stream",
     "text": [
      "   S.no FIRST NAME  GENDER LOGIN TIME  SALARY BONUS TEAM\n",
      "5     6       HEMA  FEMALE       4:00   50000    5%    B\n"
     ]
    }
   ],
   "source": [
    "print(d.loc[d['SALARY']==50000])"
   ]
  },
  {
   "cell_type": "code",
   "execution_count": 36,
   "id": "107f3f75-82ad-441e-8e48-4d9bf998b129",
   "metadata": {},
   "outputs": [
    {
     "name": "stdout",
     "output_type": "stream",
     "text": [
      "0    2000.0\n",
      "1    1800.0\n",
      "2     140.0\n",
      "3     160.0\n",
      "4    1400.0\n",
      "5    1000.0\n",
      "6     200.0\n",
      "7    1800.0\n",
      "8    1400.0\n",
      "9    1600.0\n",
      "Name: SALARY, dtype: float64\n"
     ]
    }
   ],
   "source": [
    "df=d['SALARY']/50\n",
    "print(df)"
   ]
  },
  {
   "cell_type": "code",
   "execution_count": null,
   "id": "6cecb42e-5dd5-4a5b-9dc9-3b23bccd2b1c",
   "metadata": {},
   "outputs": [],
   "source": []
  }
 ],
 "metadata": {
  "kernelspec": {
   "display_name": "Python 3 (ipykernel)",
   "language": "python",
   "name": "python3"
  },
  "language_info": {
   "codemirror_mode": {
    "name": "ipython",
    "version": 3
   },
   "file_extension": ".py",
   "mimetype": "text/x-python",
   "name": "python",
   "nbconvert_exporter": "python",
   "pygments_lexer": "ipython3",
   "version": "3.12.7"
  }
 },
 "nbformat": 4,
 "nbformat_minor": 5
}
