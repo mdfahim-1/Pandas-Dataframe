{
 "cells": [
  {
   "cell_type": "code",
   "execution_count": 31,
   "id": "86129aec-99db-46a7-972e-6d1e96a63300",
   "metadata": {},
   "outputs": [
    {
     "name": "stdout",
     "output_type": "stream",
     "text": [
      "\n",
      " Original Dataframe :\n",
      "    S  R\n",
      "0  3  9\n",
      "1  3  9\n",
      "2  3  9\n",
      "3  3  9\n",
      "\n",
      " Square root :\n",
      "           S    R\n",
      "0  1.732051  3.0\n",
      "1  1.732051  3.0\n",
      "2  1.732051  3.0\n",
      "3  1.732051  3.0\n",
      "\n",
      " Sum of each column : \n",
      " S    12\n",
      "R    36\n",
      "dtype: int64\n",
      "\n",
      " Sum of each rows : \n",
      " 0    12\n",
      "1    12\n",
      "2    12\n",
      "3    12\n",
      "dtype: int64\n"
     ]
    }
   ],
   "source": [
    "#operation on dataframe\n",
    "import pandas as pd\n",
    "import numpy as np\n",
    "info=pd.DataFrame([[3,9]]*4,columns=['S','R'])\n",
    "print(\"\\n Original Dataframe :\\n\",info)\n",
    "print(\"\\n Square root :\\n\",info.apply(np.sqrt))\n",
    "print(\"\\n Sum of each column : \\n\",info.apply(np.sum,axis=0))\n",
    "print(\"\\n Sum of each rows : \\n\",info.apply(np.sum,axis=1))"
   ]
  },
  {
   "cell_type": "code",
   "execution_count": 32,
   "id": "7c5104ea-7851-4903-9a14-f75cde9fc200",
   "metadata": {},
   "outputs": [
    {
     "name": "stdout",
     "output_type": "stream",
     "text": [
      "   X  Y  Z\n",
      "0  2  4  6\n",
      "1  1  3  5\n",
      "2  5  8  7\n",
      "     X  Y  Z\n",
      "min  1  3  5\n",
      "max  5  8  7\n"
     ]
    }
   ],
   "source": [
    "#comparison\n",
    "import pandas as pd\n",
    "#import numpy as np\n",
    "info=pd.DataFrame([[2,4,6],[1,3,5],[5,8,7]],columns=['X','Y','Z'])\n",
    "print(info)\n",
    "print(info.agg(['min','max']))"
   ]
  },
  {
   "cell_type": "code",
   "execution_count": 30,
   "id": "631b1721-cfa9-428f-b477-61c3b60782d9",
   "metadata": {},
   "outputs": [
    {
     "name": "stdout",
     "output_type": "stream",
     "text": [
      "  EmpName  ID\n",
      "0     Sai  88\n",
      "1     Vai  70\n",
      "\n",
      "Adding new column : \n",
      "   EmpName  ID  Age\n",
      "0     Sai  88   20\n",
      "1     Vai  70   18\n",
      "\n",
      "Adding new column : \n",
      "   EmpName  ID  Age     Sex\n",
      "0     Sai  88   20    Male\n",
      "1     Vai  70   18  Female\n"
     ]
    }
   ],
   "source": [
    "#adding a column:1\n",
    "import pandas as pd\n",
    "import numpy as np\n",
    "d2=pd.DataFrame([['Sai',88],['Vai',70]],columns=[\"EmpName\",\"ID\"])\n",
    "print(d2)\n",
    "d2['Age']=[20,18]\n",
    "print(\"\\nAdding new column : \\n\",d2)\n",
    "d2['Sex']=['Male','Female']\n",
    "print(\"\\nAdding new column : \\n\",d2)"
   ]
  },
  {
   "cell_type": "code",
   "execution_count": 4,
   "id": "52e4035e-8c16-4937-9aa4-aec130fcd2ce",
   "metadata": {},
   "outputs": [
    {
     "name": "stdout",
     "output_type": "stream",
     "text": [
      "  EmpName  ID\n",
      "0     Sai  88\n",
      "1     Vai  70\n",
      "Adding a new column : \n",
      "   EmpName  ID  Age\n",
      "0     Sai  88   20\n",
      "1     Vai  70   18\n"
     ]
    }
   ],
   "source": [
    "#adding a new column:2\n",
    "import pandas as pd\n",
    "import numpy as np\n",
    "d2=pd.DataFrame([['Sai',88],['Vai',70]],columns=[\"EmpName\",\"ID\"])\n",
    "print(d2)\n",
    "a=d2.assign(Age=[20,18])\n",
    "print(\"Adding a new column : \\n\",a)"
   ]
  },
  {
   "cell_type": "code",
   "execution_count": 45,
   "id": "d62cb857-63e8-4b39-87bf-c38460146142",
   "metadata": {},
   "outputs": [
    {
     "name": "stdout",
     "output_type": "stream",
     "text": [
      "       col1      col2\n",
      "3 -0.161867 -1.331992\n",
      "2 -1.092189  0.219666\n",
      "0 -0.557138  0.711615\n",
      "4 -0.638600  1.376318\n",
      "1 -0.019747 -0.424415\n",
      "       col1      col2\n",
      "0 -0.557138  0.711615\n",
      "1 -0.019747 -0.424415\n",
      "2 -1.092189  0.219666\n",
      "3 -0.161867 -1.331992\n",
      "4 -0.638600  1.376318\n",
      "       col1      col2\n",
      "3 -0.161867 -1.331992\n",
      "1 -0.019747 -0.424415\n",
      "2 -1.092189  0.219666\n",
      "0 -0.557138  0.711615\n",
      "4 -0.638600  1.376318\n",
      "       col1      col2\n",
      "2 -1.092189  0.219666\n",
      "4 -0.638600  1.376318\n",
      "0 -0.557138  0.711615\n",
      "3 -0.161867 -1.331992\n",
      "1 -0.019747 -0.424415\n"
     ]
    }
   ],
   "source": [
    "import pandas as pd\n",
    "import numpy as np\n",
    "info=pd.DataFrame(np.random.randn(5,2),index=[3,2,0,4,1],columns=['col1','col2'])\n",
    "print(info)\n",
    "info2=info.sort_index()\n",
    "print(info2)\n",
    "info3=info.sort_values(by='col2')\n",
    "print(info3)\n",
    "info4=info.sort_values(by='col1')\n",
    "print(info4)"
   ]
  },
  {
   "cell_type": "code",
   "execution_count": 3,
   "id": "074f39dd-0fa8-41a5-a2da-bc61e9dec7a4",
   "metadata": {},
   "outputs": [
    {
     "name": "stdout",
     "output_type": "stream",
     "text": [
      "   id  Name   Sub\n",
      "0   1   Sai  Sub1\n",
      "1   2   Poo  Sub2\n",
      "2   3  Saba  Sub4\n",
      "3   4  Yuvi  Sub3 \n",
      "\n",
      "   id    Name   Sub\n",
      "0   1  Sanjay  Sub2\n",
      "1   2   Saran  Sub4\n",
      "2   3     Sam  Sub3\n",
      "3   4    Ruba  Sub5 \n",
      "\n",
      "   id Name_x Sub_x  Name_y Sub_y\n",
      "0   1    Sai  Sub1  Sanjay  Sub2\n",
      "1   2    Poo  Sub2   Saran  Sub4\n",
      "2   3   Saba  Sub4     Sam  Sub3\n",
      "3   4   Yuvi  Sub3    Ruba  Sub5\n"
     ]
    }
   ],
   "source": [
    "import pandas as pd\n",
    "import numpy as np\n",
    "left=pd.DataFrame({'id':[1,2,3,4],'Name':['Sai','Poo','Saba','Yuvi'],'Sub':['Sub1','Sub2','Sub4','Sub3']})\n",
    "right=pd.DataFrame({'id':[1,2,3,4],'Name':['Sanjay','Saran','Sam','Ruba'],'Sub':['Sub2','Sub4','Sub3','Sub5']})\n",
    "print(left,'\\n')\n",
    "print(right,'\\n')\n",
    "print(pd.merge(left,right,on=\"id\"))"
   ]
  },
  {
   "cell_type": "code",
   "execution_count": null,
   "id": "3187c04d-a84a-4f0c-bc52-481ffb3ed4c1",
   "metadata": {},
   "outputs": [],
   "source": []
  }
 ],
 "metadata": {
  "kernelspec": {
   "display_name": "Python 3 (ipykernel)",
   "language": "python",
   "name": "python3"
  },
  "language_info": {
   "codemirror_mode": {
    "name": "ipython",
    "version": 3
   },
   "file_extension": ".py",
   "mimetype": "text/x-python",
   "name": "python",
   "nbconvert_exporter": "python",
   "pygments_lexer": "ipython3",
   "version": "3.12.7"
  }
 },
 "nbformat": 4,
 "nbformat_minor": 5
}
